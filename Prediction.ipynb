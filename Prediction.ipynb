{
 "cells": [
  {
   "cell_type": "code",
   "execution_count": 1,
   "metadata": {},
   "outputs": [],
   "source": [
    "import os\n",
    "import numpy as np\n",
    "import cv2\n",
    "import pywt\n",
    "from PIL import Image\n",
    "from skimage.feature import local_binary_pattern\n",
    "from sklearn.svm import SVC\n",
    "from sklearn.ensemble import RandomForestClassifier\n",
    "from sklearn.model_selection import train_test_split\n",
    "from sklearn.preprocessing import StandardScaler\n",
    "from sklearn.metrics import accuracy_score, classification_report\n",
    "from joblib import Parallel, delayed\n"
   ]
  },
  {
   "cell_type": "code",
   "execution_count": 2,
   "metadata": {},
   "outputs": [],
   "source": [
    "# Define dataset paths\n",
    "folder_benign_train = r'data/test/benign'\n",
    "folder_malignant_train = r'data/train/malignant'\n",
    "folder_benign_test = r'data/test/benign'\n",
    "folder_malignant_test = r'data/test/malignant'\n",
    "folder_healthy=r'data\\healthy'\n",
    "folder_not_skin=r'data\\not_skin'"
   ]
  },
  {
   "cell_type": "code",
   "execution_count": 3,
   "metadata": {},
   "outputs": [],
   "source": [
    "# Load and preprocess images\n",
    "def read_image(imname):\n",
    "    img = Image.open(imname).convert(\"L\")  # Convert to grayscale\n",
    "    return np.asarray(img, dtype=np.uint8)\n",
    "def extract_contourlet_features(image):\n",
    "    coeffs = pywt.wavedec2(image, 'db1', level=3)\n",
    "    features = []\n",
    "    for coeff in coeffs:\n",
    "        if isinstance(coeff, tuple):\n",
    "            for subband in coeff:\n",
    "                features.append(np.mean(subband))\n",
    "                features.append(np.var(subband))\n",
    "        else:\n",
    "            features.append(np.mean(coeff))\n",
    "            features.append(np.var(coeff))\n",
    "    return features\n",
    "\n",
    "def extract_lbp_features(image, num_points=24, radius=3):\n",
    "    lbp = local_binary_pattern(image, num_points, radius, method=\"uniform\")\n",
    "    hist, _ = np.histogram(lbp.ravel(), bins=np.arange(0, num_points + 3), range=(0, num_points + 2))\n",
    "    return hist.astype(\"float\") / hist.sum()\n",
    "\n"
   ]
  },
  {
   "cell_type": "code",
   "execution_count": 4,
   "metadata": {},
   "outputs": [],
   "source": [
    "def load_images_from_folder(folder):\n",
    "    images = []\n",
    "    for filename in os.listdir(folder):\n",
    "        img_path = os.path.join(folder, filename)\n",
    "        try:\n",
    "            img = read_image(img_path)\n",
    "            images.append(extract_features(img))\n",
    "        except Exception as e:\n",
    "            print(f\"Error loading {img_path}: {e}\")\n",
    "    return np.array(images, dtype=\"float\")\n"
   ]
  },
  {
   "cell_type": "code",
   "execution_count": 5,
   "metadata": {},
   "outputs": [],
   "source": [
    "from PIL import Image\n",
    "import numpy as np\n",
    "import os\n",
    "\n",
    "def load_images_from_folder(folder, target_size=(100, 100)):\n",
    "    images = []\n",
    "    valid_extensions = (\".jpg\", \".jpeg\", \".png\", \".bmp\", \".tiff\")  # Supported formats\n",
    "    \n",
    "    for filename in os.listdir(folder):\n",
    "        img_path = os.path.join(folder, filename)\n",
    "        \n",
    "        if not filename.lower().endswith(valid_extensions):\n",
    "            print(f\"Skipping non-image file: {filename}\")\n",
    "            continue  # Skip non-image files\n",
    "        \n",
    "        try:\n",
    "            img = Image.open(img_path).convert(\"L\")  # Convert to grayscale\n",
    "            img = img.resize(target_size)  # Resize\n",
    "            img = np.array(img, dtype=np.uint8)  # Convert to NumPy array\n",
    "            images.append(img)\n",
    "        except Exception as e:\n",
    "            print(f\"Error loading {img_path}: {e}\")\n",
    "\n",
    "    return np.array(images) if images else np.array([])"
   ]
  },
  {
   "cell_type": "code",
   "execution_count": 6,
   "metadata": {},
   "outputs": [],
   "source": [
    "def extract_contourlet_features(image):\n",
    "    if len(image.shape) == 3:  # Convert RGB to Grayscale if needed\n",
    "        image = cv2.cvtColor(image, cv2.COLOR_BGR2GRAY)\n",
    "    elif len(image.shape) != 2:  # If image is not 2D, raise an error\n",
    "        raise ValueError(f\"Invalid image shape: {image.shape}. Expected 2D grayscale.\")\n",
    "    \n",
    "    coeffs = pywt.wavedec2(image, 'db1', level=3)  # Apply wavelet decomposition\n",
    "    features = []\n",
    "    for coeff in coeffs:\n",
    "        if isinstance(coeff, tuple):\n",
    "            for subband in coeff:\n",
    "                features.append(np.mean(subband))\n",
    "                features.append(np.var(subband))\n",
    "        else:\n",
    "            features.append(np.mean(coeff))\n",
    "            features.append(np.var(coeff))\n",
    "    return features\n"
   ]
  },
  {
   "cell_type": "code",
   "execution_count": 7,
   "metadata": {},
   "outputs": [],
   "source": [
    "# Local Binary Pattern Feature Extraction\n",
    "def extract_lbp_features(image, num_points=24, radius=3):\n",
    "    lbp = local_binary_pattern(image, num_points, radius, method=\"uniform\")\n",
    "    hist, _ = np.histogram(lbp.ravel(), bins=np.arange(0, num_points + 3), range=(0, num_points + 2))\n",
    "    return hist.astype(\"float\") / hist.sum()\n",
    "\n",
    "# Combined Feature Extraction\n",
    "def extract_features(image):\n",
    "    contourlet_features = extract_contourlet_features(image)\n",
    "    lbp_features = extract_lbp_features(image)\n",
    "    return np.concatenate((contourlet_features, lbp_features))\n",
    "\n",
    "# Parallel Processing for Feature Extraction\n",
    "def process_images_in_parallel(images):\n",
    "    return Parallel(n_jobs=-1)(delayed(extract_features)(img) for img in images)"
   ]
  },
  {
   "cell_type": "code",
   "execution_count": 9,
   "metadata": {},
   "outputs": [],
   "source": [
    "# Load dataset\n",
    "X_benign = load_images_from_folder(folder_benign_train)\n",
    "X_malignant = load_images_from_folder(folder_malignant_train)\n",
    "X_benign_test = load_images_from_folder(folder_benign_test)\n",
    "X_malignant_test = load_images_from_folder(folder_malignant_test)\n",
    "X_healthy=load_images_from_folder(folder_healthy)\n",
    "X_not_skin=load_images_from_folder(folder_not_skin)\n",
    "from sklearn.model_selection import train_test_split\n",
    "\n",
    "# Assuming X_healthy and X_not_skin are small datasets\n",
    "X_healthy_train, X_healthy_test, y_healthy_train, y_healthy_test = train_test_split(\n",
    "    X_healthy, np.full(len(X_healthy), 2), test_size=0.2, random_state=42\n",
    ")\n",
    "\n",
    "X_not_skin_train, X_not_skin_test, y_not_skin_train, y_not_skin_test = train_test_split(\n",
    "    X_not_skin, np.full(len(X_not_skin), 3), test_size=0.2, random_state=42\n",
    ")"
   ]
  },
  {
   "cell_type": "code",
   "execution_count": 10,
   "metadata": {},
   "outputs": [],
   "source": [
    "# Create labels\n",
    "y_benign = np.zeros(X_benign.shape[0])  # 0 for benign\n",
    "y_malignant = np.ones(X_malignant.shape[0])  # 1 for malignant\n",
    "y_benign_test = np.zeros(X_benign_test.shape[0])\n",
    "y_malignant_test = np.ones(X_malignant_test.shape[0])\n",
    "y_healthy = np.full(X_healthy.shape[0], 2)\n",
    "y_not_skin = np.full(X_not_skin.shape[0], 3) \n",
    "y_healthy_test = np.full(X_healthy.shape[0], 2)\n",
    "y_not_skin_test = np.full(X_not_skin.shape[0], 3) "
   ]
  },
  {
   "cell_type": "code",
   "execution_count": 11,
   "metadata": {},
   "outputs": [
    {
     "name": "stdout",
     "output_type": "stream",
     "text": [
      "y_benign_test shape: (360,)\n",
      "y_malignant_test shape: (300,)\n",
      "y_healthy_test shape: (8,)\n",
      "y_not_skin_test shape: (8,)\n"
     ]
    }
   ],
   "source": [
    "print(\"y_benign_test shape:\", y_benign_test.shape)\n",
    "print(\"y_malignant_test shape:\", y_malignant_test.shape)\n",
    "print(\"y_healthy_test shape:\", y_healthy_test.shape)\n",
    "print(\"y_not_skin_test shape:\", y_not_skin_test.shape)"
   ]
  },
  {
   "cell_type": "code",
   "execution_count": 12,
   "metadata": {},
   "outputs": [],
   "source": [
    "# Concatenate\n",
    "X_train = np.concatenate((X_benign, X_malignant, X_healthy, X_not_skin), axis=0)\n",
    "y_train = np.concatenate((y_benign, y_malignant, y_healthy, y_not_skin), axis=0)\n",
    "\n",
    "X_test = np.concatenate((X_benign_test, X_malignant_test, X_healthy_test, X_not_skin_test), axis=0)\n",
    "y_test = np.concatenate((y_benign_test, y_malignant_test, y_healthy_test, y_not_skin_test), axis=0)\n",
    "\n"
   ]
  },
  {
   "cell_type": "code",
   "execution_count": 13,
   "metadata": {},
   "outputs": [
    {
     "name": "stdout",
     "output_type": "stream",
     "text": [
      "X_train Shape: (1573, 100, 100)\n",
      "First Image Shape: (100, 100)\n"
     ]
    }
   ],
   "source": [
    "print(\"X_train Shape:\", X_train.shape)\n",
    "print(\"First Image Shape:\", X_train[0].shape)"
   ]
  },
  {
   "cell_type": "code",
   "execution_count": 14,
   "metadata": {},
   "outputs": [],
   "source": [
    "X_train = X_train.reshape(X_train.shape[0], -1)  # Flatten images\n",
    "X_test = X_test.reshape(X_test.shape[0], -1)"
   ]
  },
  {
   "cell_type": "code",
   "execution_count": 15,
   "metadata": {},
   "outputs": [],
   "source": [
    "y_test = y_test[:X_test.shape[0]]  # Keep only the first 664 labels\n"
   ]
  },
  {
   "cell_type": "code",
   "execution_count": 16,
   "metadata": {},
   "outputs": [
    {
     "name": "stdout",
     "output_type": "stream",
     "text": [
      "X_train shape: (1573, 10000)\n",
      "y_train shape: (1573,)\n",
      "X_test shape: (664, 10000)\n",
      "y_test shape: (664,)\n"
     ]
    }
   ],
   "source": [
    "print(\"X_train shape:\", X_train.shape)\n",
    "print(\"y_train shape:\", y_train.shape)\n",
    "print(\"X_test shape:\", X_test.shape)\n",
    "print(\"y_test shape:\", y_test.shape)"
   ]
  },
  {
   "cell_type": "code",
   "execution_count": 17,
   "metadata": {},
   "outputs": [
    {
     "name": "stdout",
     "output_type": "stream",
     "text": [
      "SVM Accuracy: 0.8765060240963856\n"
     ]
    }
   ],
   "source": [
    "# Train SVM Classifier\n",
    "svm_model = SVC(kernel='linear')\n",
    "svm_model.fit(X_train, y_train)\n",
    "y_pred_svm = svm_model.predict(X_test)\n",
    "svm_acc = accuracy_score(y_test, y_pred_svm)\n",
    "print(\"SVM Accuracy:\", svm_acc)"
   ]
  },
  {
   "cell_type": "code",
   "execution_count": 18,
   "metadata": {},
   "outputs": [
    {
     "name": "stdout",
     "output_type": "stream",
     "text": [
      "Random Forest Accuracy: 0.9864457831325302\n"
     ]
    }
   ],
   "source": [
    "# Train Random Forest Classifier\n",
    "rf_model = RandomForestClassifier(n_estimators=100, random_state=42)\n",
    "rf_model.fit(X_train, y_train)\n",
    "y_pred_rf = rf_model.predict(X_test)\n",
    "rf_acc = accuracy_score(y_test, y_pred_rf)\n",
    "print(\"Random Forest Accuracy:\", rf_acc)"
   ]
  },
  {
   "cell_type": "code",
   "execution_count": 19,
   "metadata": {},
   "outputs": [],
   "source": [
    "from tensorflow.keras.applications import VGG19\n",
    "from tensorflow.keras.models import Model\n",
    "from tensorflow.keras.preprocessing.image import img_to_array, load_img\n",
    "import numpy as np\n",
    "\n",
    "# Load VGG19 model without the top layer\n",
    "vgg19_model = VGG19(weights=\"imagenet\", include_top=False, pooling=\"avg\")\n",
    "\n",
    "# Function to extract deep features\n",
    "def extract_vgg19_features(img_path):\n",
    "    img = load_img(img_path, target_size=(224, 224))  # Resize image\n",
    "    img_array = img_to_array(img)\n",
    "    img_array = np.expand_dims(img_array, axis=0)  # Add batch dimension\n",
    "    img_array /= 255.0  # Normalize pixel values\n",
    "\n",
    "    features = vgg19_model.predict(img_array)\n",
    "    return features.flatten()  # Flatten the output\n"
   ]
  },
  {
   "cell_type": "code",
   "execution_count": 20,
   "metadata": {},
   "outputs": [
    {
     "name": "stdout",
     "output_type": "stream",
     "text": [
      "Best Model Selected: Random Forest\n"
     ]
    }
   ],
   "source": [
    "# Choose Best Model\n",
    "best_model = svm_model if svm_acc > rf_acc else rf_model\n",
    "print(\"Best Model Selected:\", \"SVM\" if best_model == svm_model else \"Random Forest\")\n"
   ]
  },
  {
   "cell_type": "code",
   "execution_count": 21,
   "metadata": {},
   "outputs": [],
   "source": [
    "from PIL import Image\n",
    "import numpy as np\n",
    "import cv2\n",
    "\n",
    "def read_image(image_path, target_size=(100, 100)):\n",
    "    \"\"\"Reads an image, converts to grayscale, and resizes it.\"\"\"\n",
    "    img = Image.open(image_path).convert(\"L\")  # Convert to grayscale\n",
    "    img = img.resize(target_size)  # Resize to match training size\n",
    "    return np.array(img, dtype=np.uint8)  # Convert to NumPy array\n",
    "\n",
    "def extract_features(img):\n",
    "    \"\"\"Extracts features by flattening the image (100x100 → 10,000 features).\"\"\"\n",
    "    return img.flatten()  # Ensures correct feature vector shape\n",
    "\n",
    "def is_skin_image(image_path):\n",
    "    \"\"\"Checks if the given image is a skin image using color and texture analysis.\"\"\"\n",
    "    img = cv2.imread(image_path)\n",
    "    if img is None:\n",
    "        return False  # Invalid image file\n",
    "\n",
    "    # Convert to HSV color space\n",
    "    hsv = cv2.cvtColor(img, cv2.COLOR_BGR2HSV)\n",
    "    \n",
    "    # Define skin color range\n",
    "    lower_skin = np.array([0, 20, 70], dtype=np.uint8)\n",
    "    upper_skin = np.array([25, 255, 255], dtype=np.uint8)\n",
    "\n",
    "    # Create skin mask\n",
    "    mask = cv2.inRange(hsv, lower_skin, upper_skin)\n",
    "\n",
    "    # Calculate the percentage of skin pixels\n",
    "    skin_ratio = (np.sum(mask > 0) / mask.size) * 100\n",
    "\n",
    "    return skin_ratio > 5  # Returns True if enough skin pixels are detected\n",
    "\n",
    "def predict_skin_cancer(image_path, model):\n",
    "    \"\"\"Predicts if an image is a skin image and classifies it as Benign, Malignant, Healthy Skin, or Not a Skin Image.\"\"\"\n",
    "    \n",
    "    if not is_skin_image(image_path):\n",
    "        return \"Not a Skin Image\"\n",
    "\n",
    "    img = read_image(image_path)  # Load and preprocess image\n",
    "    features = extract_features(img)  # Extract features\n",
    "\n",
    "    # Ensure `features` is a 2D array (1 sample, many features)\n",
    "    features = np.array(features).reshape(1, -1)  \n",
    "\n",
    "    # Get prediction probabilities\n",
    "    pred_prob = model.predict_proba(features)[0]  \n",
    "\n",
    "    # Unpack probability values (assuming 4-class classification)\n",
    "    benign_prob, malignant_prob, healthy_prob, not_skin_prob = pred_prob\n",
    "\n",
    "    # Classify as Not a Skin Image if probability is high\n",
    "    if not_skin_prob > 0.5:\n",
    "        return \"Not a Skin Image\"\n",
    "    \n",
    "    # Classify as Healthy if probability is high\n",
    "    if healthy_prob > 0.5:\n",
    "        return \"Healthy Skin\"\n",
    "\n",
    "    # Otherwise, classify as Benign or Malignant\n",
    "    pred_label = model.predict(features)[0]  \n",
    "    return \"Benign\" if pred_label == 0 else \"Malignant\"\n",
    "\n"
   ]
  },
  {
   "cell_type": "code",
   "execution_count": 22,
   "metadata": {},
   "outputs": [
    {
     "name": "stdout",
     "output_type": "stream",
     "text": [
      "X_train shape: (1573, 10000)\n",
      "X_test shape: (664, 10000)\n"
     ]
    }
   ],
   "source": [
    "print(\"X_train shape:\", X_train.shape)  # Should match model input\n",
    "print(\"X_test shape:\", X_test.shape)  # Should match X_train"
   ]
  },
  {
   "cell_type": "code",
   "execution_count": 23,
   "metadata": {},
   "outputs": [
    {
     "name": "stdout",
     "output_type": "stream",
     "text": [
      "Before prediction, X shape: (664, 10000)\n"
     ]
    }
   ],
   "source": [
    "print(\"Before prediction, X shape:\", X_test.shape)"
   ]
  },
  {
   "cell_type": "code",
   "execution_count": 24,
   "metadata": {},
   "outputs": [
    {
     "name": "stdout",
     "output_type": "stream",
     "text": [
      "Prediction: Not a Skin Image\n"
     ]
    }
   ],
   "source": [
    "# Example Prediction\n",
    "sample_image = r'data\\not_skin\\a1.jpg'\n",
    "print(\"Prediction:\", predict_skin_cancer(sample_image, best_model))"
   ]
  },
  {
   "cell_type": "code",
   "execution_count": 25,
   "metadata": {},
   "outputs": [
    {
     "data": {
      "text/plain": [
       "['best_model.pkl']"
      ]
     },
     "execution_count": 25,
     "metadata": {},
     "output_type": "execute_result"
    }
   ],
   "source": [
    "from joblib import dump\n",
    "dump(best_model, \"best_model.pkl\")"
   ]
  }
 ],
 "metadata": {
  "kernelspec": {
   "display_name": "Python 3",
   "language": "python",
   "name": "python3"
  },
  "language_info": {
   "codemirror_mode": {
    "name": "ipython",
    "version": 3
   },
   "file_extension": ".py",
   "mimetype": "text/x-python",
   "name": "python",
   "nbconvert_exporter": "python",
   "pygments_lexer": "ipython3",
   "version": "3.10.11"
  }
 },
 "nbformat": 4,
 "nbformat_minor": 4
}
